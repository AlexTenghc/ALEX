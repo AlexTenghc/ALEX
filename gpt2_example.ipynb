{
 "cells": [
  {
   "cell_type": "markdown",
   "metadata": {},
   "source": [
    "GPT2 is in pytorch_transformers"
   ]
  },
  {
   "cell_type": "code",
   "execution_count": 1,
   "metadata": {
    "scrolled": false
   },
   "outputs": [
    {
     "name": "stdout",
     "output_type": "stream",
     "text": [
      "Requirement already satisfied: numpy in /Users/hsiangct/opt/anaconda3/lib/python3.9/site-packages (1.21.5)\n",
      "\n",
      "\u001b[1m[\u001b[0m\u001b[34;49mnotice\u001b[0m\u001b[1;39;49m]\u001b[0m\u001b[39;49m A new release of pip is available: \u001b[0m\u001b[31;49m23.2\u001b[0m\u001b[39;49m -> \u001b[0m\u001b[32;49m23.2.1\u001b[0m\n",
      "\u001b[1m[\u001b[0m\u001b[34;49mnotice\u001b[0m\u001b[1;39;49m]\u001b[0m\u001b[39;49m To update, run: \u001b[0m\u001b[32;49mpip install --upgrade pip\u001b[0m\n",
      "Requirement already satisfied: scipy in /Users/hsiangct/opt/anaconda3/lib/python3.9/site-packages (1.7.3)\n",
      "Requirement already satisfied: numpy<1.23.0,>=1.16.5 in /Users/hsiangct/opt/anaconda3/lib/python3.9/site-packages (from scipy) (1.21.5)\n",
      "\n",
      "\u001b[1m[\u001b[0m\u001b[34;49mnotice\u001b[0m\u001b[1;39;49m]\u001b[0m\u001b[39;49m A new release of pip is available: \u001b[0m\u001b[31;49m23.2\u001b[0m\u001b[39;49m -> \u001b[0m\u001b[32;49m23.2.1\u001b[0m\n",
      "\u001b[1m[\u001b[0m\u001b[34;49mnotice\u001b[0m\u001b[1;39;49m]\u001b[0m\u001b[39;49m To update, run: \u001b[0m\u001b[32;49mpip install --upgrade pip\u001b[0m\n",
      "Requirement already satisfied: pytorch_transformers in /Users/hsiangct/opt/anaconda3/lib/python3.9/site-packages (1.2.0)\n",
      "Requirement already satisfied: torch>=1.0.0 in /Users/hsiangct/opt/anaconda3/lib/python3.9/site-packages (from pytorch_transformers) (2.0.1)\n",
      "Requirement already satisfied: numpy in /Users/hsiangct/opt/anaconda3/lib/python3.9/site-packages (from pytorch_transformers) (1.21.5)\n",
      "Requirement already satisfied: boto3 in /Users/hsiangct/opt/anaconda3/lib/python3.9/site-packages (from pytorch_transformers) (1.21.32)\n",
      "Requirement already satisfied: requests in /Users/hsiangct/opt/anaconda3/lib/python3.9/site-packages (from pytorch_transformers) (2.27.1)\n",
      "Requirement already satisfied: tqdm in /Users/hsiangct/opt/anaconda3/lib/python3.9/site-packages (from pytorch_transformers) (4.64.0)\n",
      "Requirement already satisfied: regex in /Users/hsiangct/opt/anaconda3/lib/python3.9/site-packages (from pytorch_transformers) (2022.3.15)\n",
      "Requirement already satisfied: sentencepiece in /Users/hsiangct/opt/anaconda3/lib/python3.9/site-packages (from pytorch_transformers) (0.1.99)\n",
      "Requirement already satisfied: sacremoses in /Users/hsiangct/opt/anaconda3/lib/python3.9/site-packages (from pytorch_transformers) (0.0.53)\n",
      "Requirement already satisfied: filelock in /Users/hsiangct/opt/anaconda3/lib/python3.9/site-packages (from torch>=1.0.0->pytorch_transformers) (3.6.0)\n",
      "Requirement already satisfied: typing-extensions in /Users/hsiangct/opt/anaconda3/lib/python3.9/site-packages (from torch>=1.0.0->pytorch_transformers) (4.1.1)\n",
      "Requirement already satisfied: sympy in /Users/hsiangct/opt/anaconda3/lib/python3.9/site-packages (from torch>=1.0.0->pytorch_transformers) (1.10.1)\n",
      "Requirement already satisfied: networkx in /Users/hsiangct/opt/anaconda3/lib/python3.9/site-packages (from torch>=1.0.0->pytorch_transformers) (2.7.1)\n",
      "Requirement already satisfied: jinja2 in /Users/hsiangct/opt/anaconda3/lib/python3.9/site-packages (from torch>=1.0.0->pytorch_transformers) (2.11.3)\n",
      "Requirement already satisfied: botocore<1.25.0,>=1.24.32 in /Users/hsiangct/opt/anaconda3/lib/python3.9/site-packages (from boto3->pytorch_transformers) (1.24.32)\n",
      "Requirement already satisfied: jmespath<2.0.0,>=0.7.1 in /Users/hsiangct/opt/anaconda3/lib/python3.9/site-packages (from boto3->pytorch_transformers) (0.10.0)\n",
      "Requirement already satisfied: s3transfer<0.6.0,>=0.5.0 in /Users/hsiangct/opt/anaconda3/lib/python3.9/site-packages (from boto3->pytorch_transformers) (0.5.0)\n",
      "Requirement already satisfied: urllib3<1.27,>=1.21.1 in /Users/hsiangct/opt/anaconda3/lib/python3.9/site-packages (from requests->pytorch_transformers) (1.26.9)\n",
      "Requirement already satisfied: certifi>=2017.4.17 in /Users/hsiangct/opt/anaconda3/lib/python3.9/site-packages (from requests->pytorch_transformers) (2023.7.22)\n",
      "Requirement already satisfied: charset-normalizer~=2.0.0 in /Users/hsiangct/opt/anaconda3/lib/python3.9/site-packages (from requests->pytorch_transformers) (2.0.4)\n",
      "Requirement already satisfied: idna<4,>=2.5 in /Users/hsiangct/opt/anaconda3/lib/python3.9/site-packages (from requests->pytorch_transformers) (3.3)\n",
      "Requirement already satisfied: six in /Users/hsiangct/opt/anaconda3/lib/python3.9/site-packages (from sacremoses->pytorch_transformers) (1.16.0)\n",
      "Requirement already satisfied: click in /Users/hsiangct/opt/anaconda3/lib/python3.9/site-packages (from sacremoses->pytorch_transformers) (8.0.4)\n",
      "Requirement already satisfied: joblib in /Users/hsiangct/opt/anaconda3/lib/python3.9/site-packages (from sacremoses->pytorch_transformers) (1.1.0)\n",
      "Requirement already satisfied: python-dateutil<3.0.0,>=2.1 in /Users/hsiangct/opt/anaconda3/lib/python3.9/site-packages (from botocore<1.25.0,>=1.24.32->boto3->pytorch_transformers) (2.8.2)\n",
      "Requirement already satisfied: MarkupSafe>=0.23 in /Users/hsiangct/opt/anaconda3/lib/python3.9/site-packages (from jinja2->torch>=1.0.0->pytorch_transformers) (2.0.1)\n",
      "Requirement already satisfied: mpmath>=0.19 in /Users/hsiangct/opt/anaconda3/lib/python3.9/site-packages (from sympy->torch>=1.0.0->pytorch_transformers) (1.2.1)\n",
      "\n",
      "\u001b[1m[\u001b[0m\u001b[34;49mnotice\u001b[0m\u001b[1;39;49m]\u001b[0m\u001b[39;49m A new release of pip is available: \u001b[0m\u001b[31;49m23.2\u001b[0m\u001b[39;49m -> \u001b[0m\u001b[32;49m23.2.1\u001b[0m\n",
      "\u001b[1m[\u001b[0m\u001b[34;49mnotice\u001b[0m\u001b[1;39;49m]\u001b[0m\u001b[39;49m To update, run: \u001b[0m\u001b[32;49mpip install --upgrade pip\u001b[0m\n"
     ]
    }
   ],
   "source": [
    "import sys\n",
    "# You may need to play around with the path like I did to find packages\n",
    "# sys.path.append(\"C:\\\\users\\\\mike\\\\appdata\\\\roaming\\\\python\\\\python311\\\\site-packages\")\n",
    "!{sys.executable} -m pip install numpy\n",
    "!{sys.executable} -m pip install scipy\n",
    "!{sys.executable} -m pip install pytorch_transformers"
   ]
  },
  {
   "cell_type": "markdown",
   "metadata": {},
   "source": [
    "Import required libraries"
   ]
  },
  {
   "cell_type": "code",
   "execution_count": 2,
   "metadata": {},
   "outputs": [
    {
     "name": "stdout",
     "output_type": "stream",
     "text": [
      "['/Users/hsiangct/Downloads', '/Users/hsiangct/opt/anaconda3/lib/python39.zip', '/Users/hsiangct/opt/anaconda3/lib/python3.9', '/Users/hsiangct/opt/anaconda3/lib/python3.9/lib-dynload', '', '/Users/hsiangct/opt/anaconda3/lib/python3.9/site-packages', '/Users/hsiangct/opt/anaconda3/lib/python3.9/site-packages/aeosa', '/Users/hsiangct/opt/anaconda3/lib/python3.9/site-packages/Django-4.2.dev20221101062730-py3.9.egg']\n"
     ]
    }
   ],
   "source": [
    "print(sys.path)\n",
    "import torch\n",
    "from pytorch_transformers import GPT2Tokenizer, GPT2LMHeadModel"
   ]
  },
  {
   "cell_type": "markdown",
   "metadata": {},
   "source": [
    "Load pre-trained model tokenizer (vocabulary)"
   ]
  },
  {
   "cell_type": "code",
   "execution_count": 3,
   "metadata": {},
   "outputs": [
    {
     "name": "stderr",
     "output_type": "stream",
     "text": [
      "100%|█████████████████████████████| 1042301/1042301 [00:00<00:00, 3009490.44B/s]\n",
      "100%|███████████████████████████████| 456318/456318 [00:00<00:00, 1777076.63B/s]\n"
     ]
    }
   ],
   "source": [
    "tokenizer = GPT2Tokenizer.from_pretrained('gpt2')"
   ]
  },
  {
   "cell_type": "markdown",
   "metadata": {},
   "source": [
    "Encode the sentence to complete"
   ]
  },
  {
   "cell_type": "code",
   "execution_count": 4,
   "metadata": {},
   "outputs": [],
   "source": [
    "text = \"My favorite animal is a\"\n",
    "indexed_tokens = tokenizer.encode(text)"
   ]
  },
  {
   "cell_type": "markdown",
   "metadata": {},
   "source": [
    "Convert indexed tokens in a PyTorch tensor"
   ]
  },
  {
   "cell_type": "code",
   "execution_count": 5,
   "metadata": {},
   "outputs": [],
   "source": [
    "tokens_tensor = torch.tensor([indexed_tokens])"
   ]
  },
  {
   "cell_type": "markdown",
   "metadata": {},
   "source": [
    "Load pre-trained model (weights)"
   ]
  },
  {
   "cell_type": "code",
   "execution_count": 6,
   "metadata": {},
   "outputs": [
    {
     "name": "stderr",
     "output_type": "stream",
     "text": [
      "100%|██████████████████████████████████████| 665/665 [00:00<00:00, 134316.29B/s]\n",
      "100%|█████████████████████████| 548118077/548118077 [03:06<00:00, 2942187.69B/s]\n"
     ]
    }
   ],
   "source": [
    "model = GPT2LMHeadModel.from_pretrained('gpt2')"
   ]
  },
  {
   "cell_type": "markdown",
   "metadata": {},
   "source": [
    "Set the model in evaluation mode to deactivate the DropOut modules"
   ]
  },
  {
   "cell_type": "code",
   "execution_count": 7,
   "metadata": {},
   "outputs": [
    {
     "data": {
      "text/plain": [
       "GPT2LMHeadModel(\n",
       "  (transformer): GPT2Model(\n",
       "    (wte): Embedding(50257, 768)\n",
       "    (wpe): Embedding(1024, 768)\n",
       "    (drop): Dropout(p=0.1, inplace=False)\n",
       "    (h): ModuleList(\n",
       "      (0-11): 12 x Block(\n",
       "        (ln_1): LayerNorm((768,), eps=1e-05, elementwise_affine=True)\n",
       "        (attn): Attention(\n",
       "          (c_attn): Conv1D()\n",
       "          (c_proj): Conv1D()\n",
       "          (attn_dropout): Dropout(p=0.1, inplace=False)\n",
       "          (resid_dropout): Dropout(p=0.1, inplace=False)\n",
       "        )\n",
       "        (ln_2): LayerNorm((768,), eps=1e-05, elementwise_affine=True)\n",
       "        (mlp): MLP(\n",
       "          (c_fc): Conv1D()\n",
       "          (c_proj): Conv1D()\n",
       "          (dropout): Dropout(p=0.1, inplace=False)\n",
       "        )\n",
       "      )\n",
       "    )\n",
       "    (ln_f): LayerNorm((768,), eps=1e-05, elementwise_affine=True)\n",
       "  )\n",
       "  (lm_head): Linear(in_features=768, out_features=50257, bias=False)\n",
       ")"
      ]
     },
     "execution_count": 7,
     "metadata": {},
     "output_type": "execute_result"
    }
   ],
   "source": [
    "model.eval()"
   ]
  },
  {
   "cell_type": "markdown",
   "metadata": {},
   "source": [
    "If you have a GPU, uncomment the following to put everything on cuda"
   ]
  },
  {
   "cell_type": "code",
   "execution_count": 8,
   "metadata": {},
   "outputs": [],
   "source": [
    "# tokens_tensor = tokens_tensor.to('cuda')\n",
    "# model.to('cuda')"
   ]
  },
  {
   "cell_type": "markdown",
   "metadata": {},
   "source": [
    "Predict all tokens"
   ]
  },
  {
   "cell_type": "code",
   "execution_count": 9,
   "metadata": {},
   "outputs": [],
   "source": [
    "with torch.no_grad():\n",
    "    outputs = model(tokens_tensor)\n",
    "    predictions = outputs[0]"
   ]
  },
  {
   "cell_type": "markdown",
   "metadata": {},
   "source": [
    "Get the predicted next sub-word"
   ]
  },
  {
   "cell_type": "code",
   "execution_count": 10,
   "metadata": {},
   "outputs": [],
   "source": [
    "predicted_index = torch.argmax(predictions[0, -1, :]).item()\n",
    "predicted_text = tokenizer.decode(indexed_tokens + [predicted_index])"
   ]
  },
  {
   "cell_type": "markdown",
   "metadata": {},
   "source": [
    "Print the predicted word"
   ]
  },
  {
   "cell_type": "code",
   "execution_count": 11,
   "metadata": {},
   "outputs": [
    {
     "name": "stdout",
     "output_type": "stream",
     "text": [
      " My favorite animal is a dog\n"
     ]
    }
   ],
   "source": [
    "print(predicted_text)"
   ]
  },
  {
   "cell_type": "code",
   "execution_count": 21,
   "metadata": {},
   "outputs": [
    {
     "name": "stderr",
     "output_type": "stream",
     "text": [
      "The attention mask and the pad token id were not set. As a consequence, you may observe unexpected behavior. Please pass your input's `attention_mask` to obtain reliable results.\n",
      "Setting `pad_token_id` to `eos_token_id`:50256 for open-end generation.\n"
     ]
    }
   ],
   "source": [
    "input_text = \"Once upon a time, \"\n",
    "input_ids = tokenizer.encode(input_text, return_tensors=\"pt\")\n",
    "\n",
    "generated_output = model.generate(input_ids, max_length=50, num_return_sequences=1, temperature=0.7)\n"
   ]
  },
  {
   "cell_type": "code",
   "execution_count": 22,
   "metadata": {},
   "outputs": [
    {
     "name": "stdout",
     "output_type": "stream",
     "text": [
      "Once upon a time,  I was a little bit of a fan of the original series, but I was also a little bit of a fan of the original series. I was a little bit of a fan of the original series, but I\n"
     ]
    }
   ],
   "source": [
    "generated_text = tokenizer.decode(generated_output[0], skip_special_tokens=True)\n",
    "print(generated_text)"
   ]
  },
  {
   "cell_type": "code",
   "execution_count": null,
   "metadata": {},
   "outputs": [],
   "source": []
  }
 ],
 "metadata": {
  "kernelspec": {
   "display_name": "Python 3 (ipykernel)",
   "language": "python",
   "name": "python3"
  },
  "language_info": {
   "codemirror_mode": {
    "name": "ipython",
    "version": 3
   },
   "file_extension": ".py",
   "mimetype": "text/x-python",
   "name": "python",
   "nbconvert_exporter": "python",
   "pygments_lexer": "ipython3",
   "version": "3.9.12"
  }
 },
 "nbformat": 4,
 "nbformat_minor": 2
}
